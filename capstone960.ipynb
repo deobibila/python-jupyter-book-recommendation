{
  "nbformat": 4,
  "nbformat_minor": 0,
  "metadata": {
    "colab": {
      "provenance": []
    },
    "kernelspec": {
      "name": "python3",
      "display_name": "Python 3"
    },
    "language_info": {
      "name": "python"
    }
  },
  "cells": [
    {
      "cell_type": "code",
      "execution_count": null,
      "metadata": {
        "id": "EwPAmJNrdntV",
        "collapsed": true
      },
      "outputs": [],
      "source": [
        "!pip install pandas numpy scikit-learn\n",
        "\n",
        "import pandas as pd\n",
        "from sklearn.feature_extraction.text import TfidfVectorizer\n",
        "from sklearn.metrics.pairwise import cosine_similarity\n",
        "import matplotlib.pyplot as plt\n",
        "from wordcloud import WordCloud"
      ]
    },
    {
      "cell_type": "code",
      "source": [
        "import pandas as pd\n",
        "\n",
        "# Load datasets\n",
        "books = pd.read_csv('/content/sample_data/books.csv', on_bad_lines='skip')\n",
        "\n",
        "books.drop_duplicates(subset=['bookID'], inplace=True)\n",
        "books.fillna('', inplace=True)\n",
        "\n",
        "# Display a preview of the data\n",
        "#print(books.head())\n"
      ],
      "metadata": {
        "collapsed": true,
        "id": "Mm39BsFTiV13"
      },
      "execution_count": null,
      "outputs": []
    },
    {
      "cell_type": "code",
      "source": [
        "books['metadata'] = (\n",
        "    books['authors'] + ' ' +\n",
        "    books['language_code'] + ' ' +\n",
        "    books['text_reviews_count'].astype(str)\n",
        ")"
      ],
      "metadata": {
        "id": "66XbALXMWu-Y"
      },
      "execution_count": null,
      "outputs": []
    },
    {
      "cell_type": "code",
      "source": [
        "from sklearn.feature_extraction.text import TfidfVectorizer\n",
        "from sklearn.metrics.pairwise import cosine_similarity\n",
        "\n",
        "# Vectorize metadata\n",
        "vectorizer = TfidfVectorizer(stop_words='english')\n",
        "tfidf_matrix = vectorizer.fit_transform(books['metadata'])\n",
        "\n",
        "# Compute cosine similarity\n",
        "cosine_sim = cosine_similarity(tfidf_matrix, tfidf_matrix)\n",
        "\n",
        "# Map titles to indices\n",
        "title_to_index = pd.Series(books.index, index=books['title']).drop_duplicates()\n",
        "\n",
        "# Recommendation function\n",
        "def recommend_books(title):\n",
        "    if title in title_to_index:\n",
        "        idx = title_to_index[title]\n",
        "        sim_scores = list(enumerate(cosine_sim[idx]))\n",
        "        sim_scores = sorted(sim_scores, key=lambda x: x[1], reverse=True)\n",
        "        sim_scores = sim_scores[1:4]  # Top 3 recommendations\n",
        "        book_indices = [i[0] for i in sim_scores]\n",
        "        return books[['title', 'authors', 'average_rating']].iloc[book_indices]\n",
        "    else:\n",
        "        return \"Book Not Found.\"\n",
        "\n",
        "# Example\n",
        "book_title = input(\"Enter a book you have read: \")\n",
        "print(recommend_books(book_title))"
      ],
      "metadata": {
        "id": "6EzZHzQ0Xg-p"
      },
      "execution_count": null,
      "outputs": []
    },
    {
      "cell_type": "code",
      "source": [
        "!pip install streamlit\n",
        "import streamlit as st\n",
        "\n",
        "# Streamlit dashboard\n",
        "st.title(\"Book Recommendation System\")\n",
        "st.write(\"You Will Get Recommendation You Will Love!\")\n",
        "\n",
        "# User input\n",
        "book_input = st.text_input(\"Enter a book you liked:\")\n",
        "if book_input:\n",
        "    recommendations = recommend_books(book_input)\n",
        "    st.write(\"Books you might enjoy:\")\n",
        "    st.dataframe(recommendations)\n",
        "\n",
        "# Visualize most popular books\n",
        "st.bar_chart(books['average_rating'].value_counts().head(10))\n"
      ],
      "metadata": {
        "collapsed": true,
        "id": "u91WeN30Y1No"
      },
      "execution_count": null,
      "outputs": []
    },
    {
      "cell_type": "code",
      "source": [
        "def precision_at_k(recommended, relevant, k):\n",
        "    recommended_at_k = recommended[:k]\n",
        "    return len(set(recommended_at_k) & set(relevant)) / k"
      ],
      "metadata": {
        "id": "6l1pdZO5aSQj"
      },
      "execution_count": null,
      "outputs": []
    },
    {
      "cell_type": "code",
      "source": [
        "import logging\n",
        "\n",
        "logging.basicConfig(level=logging.INFO)\n",
        "logging.info(\"Recommendation system accessed.\")"
      ],
      "metadata": {
        "id": "6msnWIIzdNRR"
      },
      "execution_count": null,
      "outputs": []
    },
    {
      "cell_type": "code",
      "source": [
        "books['average_rating'].value_counts().head(10).plot(kind='bar')\n"
      ],
      "metadata": {
        "collapsed": true,
        "id": "ICw4s-jBdkcv"
      },
      "execution_count": null,
      "outputs": []
    },
    {
      "cell_type": "code",
      "source": [
        "import matplotlib.pyplot as plt\n",
        "\n",
        "plt.scatter(books['ratings_count'], books['average_rating'])\n",
        "plt.xlabel('Ratings Count')\n",
        "plt.ylabel('Average Rating')\n",
        "plt.title('Ratings Count vs Average Rating')\n",
        "plt.show()\n"
      ],
      "metadata": {
        "collapsed": true,
        "id": "x4ezaKOpdwI_"
      },
      "execution_count": null,
      "outputs": []
    },
    {
      "cell_type": "code",
      "source": [
        "import matplotlib.pyplot as plt\n",
        "\n",
        "# Count the number of books per author\n",
        "top_authors = books['authors'].value_counts().head(10)\n",
        "\n",
        "# Plot the pie chart\n",
        "plt.figure(figsize=(8, 8))\n",
        "plt.pie(\n",
        "    top_authors,\n",
        "    labels=top_authors.index,\n",
        "    autopct='%1.1f%%',\n",
        "    startangle=140,\n",
        "    colors=plt.cm.Paired.colors,\n",
        ")\n",
        "plt.title(\"Proportion of Books by Top Authors\")\n",
        "plt.show()\n"
      ],
      "metadata": {
        "collapsed": true,
        "id": "FiSPKVYhepxb"
      },
      "execution_count": null,
      "outputs": []
    }
  ]
}
